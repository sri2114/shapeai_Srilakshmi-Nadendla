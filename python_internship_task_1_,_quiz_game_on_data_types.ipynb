{
  "nbformat": 4,
  "nbformat_minor": 0,
  "metadata": {
    "colab": {
      "provenance": [],
      "mount_file_id": "1NJSGMIG3J5QLK9AwJPe0UIArk6XdApO3",
      "authorship_tag": "ABX9TyNFYJ6ymjNk/GEtH/z0wJS8",
      "include_colab_link": true
    },
    "kernelspec": {
      "name": "python3",
      "display_name": "Python 3"
    },
    "language_info": {
      "name": "python"
    }
  },
  "cells": [
    {
      "cell_type": "markdown",
      "metadata": {
        "id": "view-in-github",
        "colab_type": "text"
      },
      "source": [
        "<a href=\"https://colab.research.google.com/github/sri2114/shapeai_Srilakshmi-Nadendla/blob/main/python_internship_task_1_%2C_quiz_game_on_data_types.ipynb\" target=\"_parent\"><img src=\"https://colab.research.google.com/assets/colab-badge.svg\" alt=\"Open In Colab\"/></a>"
      ]
    },
    {
      "cell_type": "code",
      "execution_count": null,
      "metadata": {
        "id": "S7X1ufqmMZNb",
        "colab": {
          "base_uri": "https://localhost:8080/"
        },
        "outputId": "756b998d-5a34-4c0b-8eaa-86f79a1e6539"
      },
      "outputs": [
        {
          "output_type": "stream",
          "name": "stdout",
          "text": [
            "Welcome to the Python Data Types Quiz!\n",
            "Which function is used to convert a string to an integer in Python?\n",
            "1. int()\n",
            "2. str()\n",
            "3. float()\n",
            "4. bool()\n"
          ]
        }
      ],
      "source": [
        "import random\n",
        "# Dictionary containing questions, options, and correct answers\n",
        "questions = [\n",
        "    {\n",
        "        \"question\": \"What is the data type of x in: x = 5?\",\n",
        "        \"options\": [\"Integer\", \"String\", \"Float\", \"Boolean\"],\n",
        "        \"correct_answer\": \"Integer\"\n",
        "    },\n",
        "    {\n",
        "        \"question\": \"Which data type is mutable in Python?\",\n",
        "        \"options\": [\"Tuple\", \"List\", \"String\", \"Dictionary\"],\n",
        "        \"correct_answer\": \"List\"\n",
        "    },\n",
        "    {\n",
        "        \"question\": \"What is the output of type(3.14)?\",\n",
        "        \"options\": [\"int\", \"str\", \"float\", \"NoneType\"],\n",
        "        \"correct_answer\": \"float\"\n",
        "    },\n",
        "    {\n",
        "        \"question\": \"Which function is used to convert a string to an integer in Python?\",\n",
        "        \"options\": [\"int()\", \"str()\", \"float()\", \"bool()\"],\n",
        "        \"correct_answer\": \"int()\"\n",
        "    },\n",
        "    {\n",
        "        \"question\": \"What is the result of (10 > 5) in Python?\",\n",
        "        \"options\": [\"True\", \"False\", \"Error\", \"None\"],\n",
        "        \"correct_answer\": \"True\"\n",
        "    }\n",
        "]\n",
        "\n",
        "def present_question(question):\n",
        "    print(question[\"question\"])\n",
        "    for idx, option in enumerate(question[\"options\"], start=1):\n",
        "        print(f\"{idx}. {option}\")\n",
        "    user_answer = int(input(\"Enter your answer (1-4): \")) - 1\n",
        "    return question[\"options\"][user_answer]\n",
        "\n",
        "def play_quiz():\n",
        "    score = 0\n",
        "    random.shuffle(questions)\n",
        "\n",
        "    for question in questions:\n",
        "        user_choice = present_question(question)\n",
        "        if user_choice == question[\"correct_answer\"]:\n",
        "            print(\"Correct!\")\n",
        "            score += 1\n",
        "        else:\n",
        "            print(f\"Incorrect. The correct answer is: {question['correct_answer']}\")\n",
        "\n",
        "    print(f\"Quiz complete! Your score is: {score}/{len(questions)}\")\n",
        "\n",
        "# Main function to start the game\n",
        "def start_game():\n",
        "    print(\"Welcome to the Python Data Types Quiz!\")\n",
        "    play_quiz()\n",
        "\n",
        "# Start the game\n",
        "start_game()"
      ]
    }
  ]
}